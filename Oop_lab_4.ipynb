{
  "nbformat": 4,
  "nbformat_minor": 0,
  "metadata": {
    "colab": {
      "name": "Oop_lab_4.ipynb",
      "provenance": []
    },
    "kernelspec": {
      "name": "python3",
      "display_name": "Python 3"
    },
    "language_info": {
      "name": "python"
    }
  },
  "cells": [
    {
      "cell_type": "code",
      "metadata": {
        "colab": {
          "base_uri": "https://localhost:8080/"
        },
        "id": "xuuA2IEfdGQn",
        "outputId": "bc2d1370-d026-4d58-f128-344be1798dff"
      },
      "source": [
        "class Node:\n",
        "    def __init__(self, data):\n",
        "        self.data = data\n",
        "        self.next = None\n",
        "    \n",
        "    def __del__(self):\n",
        "        print(f\"Element {self.data} deleted\")\n",
        "\n",
        "class Stack(Node):\n",
        "    def __init__(self):\n",
        "        self.head = Node(None)\n",
        "        self.size = 0\n",
        "\n",
        "    def isEmpty(self):\n",
        "        return self.size == 0\n",
        "\n",
        "    def push(self, data):\n",
        "        temp = Node(data)\n",
        "        temp.next = self.head.next\n",
        "        self.head.next = temp\n",
        "        self.size += 1\n",
        "    \n",
        "    def pop(self):\n",
        "        if self.isEmpty():\n",
        "            print(\"Stack Empty\")\n",
        "        delete = self.head.next\n",
        "        self.head.next = self.head.next.next\n",
        "        self.size -= 1\n",
        "        return delete.data\n",
        "\n",
        "    def displayStack(self):\n",
        "        iter = self.head.next\n",
        "        print(\"Stack : \", end=\"\")\n",
        "        while iter:\n",
        "            print(iter.data, end=\"\\t\")\n",
        "            iter = iter.next\n",
        "        print()\n",
        "\n",
        "    def __del__(self):\n",
        "        if not self.isEmpty():\n",
        "            iter = self.head\n",
        "            while iter:\n",
        "                temp = iter.next\n",
        "                del iter\n",
        "                self.size -= 1\n",
        "                iter = temp              \n",
        "\n",
        "s = Stack()\n",
        "for i in range(2, 21):\n",
        "    s.push(i)\n",
        "\n",
        "s.displayStack()\n",
        "\n",
        "for i in range(3, 9):\n",
        "    delete = s.pop()\n",
        "    print(f\"Popped element : {delete}\")\n",
        "\n",
        "s.displayStack()"
      ],
      "execution_count": 8,
      "outputs": [
        {
          "output_type": "stream",
          "name": "stdout",
          "text": [
            "Element None deleted\n",
            "Element 8 deleted\n",
            "Element 7 deleted\n",
            "Element 6 deleted\n",
            "Element 5 deleted\n",
            "Element 4 deleted\n",
            "Element 3 deleted\n",
            "Element 2 deleted\n",
            "Element 1 deleted\n",
            "Stack : 20\t19\t18\t17\t16\t15\t14\t13\t12\t11\t10\t9\t8\t7\t6\t5\t4\t3\t2\t\n",
            "Element 20 deleted\n",
            "Popped element : 20\n",
            "Element 19 deleted\n",
            "Popped element : 19\n",
            "Element 18 deleted\n",
            "Popped element : 18\n",
            "Element 17 deleted\n",
            "Popped element : 17\n",
            "Element 16 deleted\n",
            "Popped element : 16\n",
            "Element 15 deleted\n",
            "Popped element : 15\n",
            "Stack : 14\t13\t12\t11\t10\t9\t8\t7\t6\t5\t4\t3\t2\t\n"
          ]
        }
      ]
    },
    {
      "cell_type": "code",
      "metadata": {
        "colab": {
          "base_uri": "https://localhost:8080/"
        },
        "id": "4Mdr0qcA2WC1",
        "outputId": "7a6ba5b3-7fa9-4210-959a-ed4dc23dc6fd"
      },
      "source": [
        "\n",
        "class Queue(object):\n",
        "    def __init__(self, size):\n",
        "        self.queue = []\n",
        "        self.size = size\n",
        "\n",
        "    def __str__(self):\n",
        "        myString = ' '.join(str(i) for i in self.queue)\n",
        "        return myString\n",
        "\n",
        "    def enqueue(self, item):\n",
        "        '''This function adds an item to the rear end of the queue '''\n",
        "        if(self.isFull() != True):\n",
        "            self.queue.insert(0, item)\n",
        "        else:\n",
        "            print('Queue is Full!')\n",
        "\n",
        "    def dequeue(self):\n",
        "        ''' This function removes an item from the front end of the queue '''\n",
        "        if(self.isEmpty() != True):\n",
        "            return self.queue.pop()\n",
        "        else:\n",
        "            print('Queue is Empty!')\n",
        "\n",
        "    def isEmpty(self):\n",
        "        ''' This function checks if the queue is empty '''\n",
        "        return self.queue == []\n",
        "\n",
        "    def isFull(self):\n",
        "        ''' This function checks if the queue is full '''\n",
        "        return len(self.queue) == self.size\n",
        "\n",
        "    def peek(self):\n",
        "        ''' This function helps to see the first element at the fron end of the queue '''\n",
        "        if(self.isEmpty() != True):\n",
        "            return self.queue[-1]\n",
        "        else:\n",
        "            print('Queue is Empty!')\n",
        "            \n",
        "\n",
        "if __name__ == '__main__':\n",
        "    myQueue = Queue(10)\n",
        "    myQueue.enqueue(4)\n",
        "    myQueue.enqueue(5)\n",
        "    myQueue.enqueue(6)\n",
        "    \n",
        "    print(myQueue)\n",
        "    \n",
        "    myQueue.enqueue(1)\n",
        "    myQueue.enqueue(2)\n",
        "    myQueue.enqueue(3)\n",
        "    \n",
        "    print(myQueue)\n",
        "    \n",
        "    myQueue.dequeue()\n",
        "    \n",
        "    print(myQueue)"
      ],
      "execution_count": 1,
      "outputs": [
        {
          "output_type": "stream",
          "name": "stdout",
          "text": [
            "6 5 4\n",
            "3 2 1 6 5 4\n",
            "3 2 1 6 5\n"
          ]
        }
      ]
    },
    {
      "cell_type": "code",
      "metadata": {
        "colab": {
          "base_uri": "https://localhost:8080/"
        },
        "id": "JPdtbxQSV4Cc",
        "outputId": "c2e90341-8370-4552-e851-e2ae925a0c15"
      },
      "source": [
        "class Rectangle():\n",
        "    def __init__(self, l, w):\n",
        "        self.length = l\n",
        "        self.width  = w\n",
        "\n",
        "    def rectangle_area(self):\n",
        "        return self.length*self.width\n",
        "\n",
        "newRectangle = Rectangle(12, 10)\n",
        "print(newRectangle.rectangle_area())"
      ],
      "execution_count": 3,
      "outputs": [
        {
          "output_type": "stream",
          "name": "stdout",
          "text": [
            "120\n"
          ]
        }
      ]
    }
  ]
}